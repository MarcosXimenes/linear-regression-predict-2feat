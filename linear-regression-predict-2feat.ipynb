{
 "cells": [
  {
   "cell_type": "code",
   "execution_count": null,
   "metadata": {},
   "outputs": [],
   "source": [
    "from sklearn.metrics import mean_absolute_error, mean_squared_error\n",
    "from sklearn.model_selection import train_test_split\n",
    "from sklearn.linear_model import LinearRegression\n",
    "import matplotlib.pyplot as plt\n",
    "import seaborn as sns\n",
    "import pandas as pd\n",
    "import numpy as np\n",
    "\n",
    "\n",
    "def linear_regression(df, x, y):\n",
    "    plt.rcParams[\"figure.figsize\"] = (15, 6)\n",
    "    correlation_r = df.corr()\n",
    "    sumary = df.describe()\n",
    "    plot = sns.scatterplot(data=df, x=x, y=y)\n",
    "    X = df[x].values.reshape(-1, 1)\n",
    "    Y = df[y].values.reshape(-1, 1)\n",
    "    X_train, X_test, y_train, y_test = train_test_split(\n",
    "        X, Y, test_size=0.2, random_state=40\n",
    "    )\n",
    "    display(correlation_r)\n",
    "    display(\n",
    "        f\"Quantidade de Dados de Teste: {len(X_test)}\",\n",
    "        f\"Quantidade de Dados de Treinamento: {len(X_train)}\",\n",
    "    )\n",
    "    regressor = LinearRegression()\n",
    "    regressor.fit(X_train, y_train)\n",
    "    y_pred = regressor.predict(X_test)\n",
    "    df_preds = pd.DataFrame({\"Atual\": y_test.squeeze(), \"Previsto\": y_pred.squeeze()})\n",
    "    mae = mean_absolute_error(y_test, y_pred)\n",
    "    mse = mean_squared_error(y_test, y_pred)\n",
    "    rmse = np.sqrt(mse)\n",
    "    print(f\"(MAE) Mean Absolute Error: {mae:.2f}\")\n",
    "    print(f\"(MSE) Mean Squared Error: {mse:.2f}\")\n",
    "    print(f\"(RMSE) Root Mean Squared Error: {rmse:.2f}\")\n",
    "    df_tests = pd.DataFrame({\"X_test\": X_test[:, 0], \"y_pred\": y_pred[:, 0]})\n",
    "    sns.lineplot(data=df_tests, x=\"X_test\", y=\"y_pred\", color=\"r\", linewidth=2.5)\n",
    "    return regressor\n",
    "\n",
    "\n",
    "def predict_by_list(model, values_to_predict, x, y):\n",
    "    array_to_predict = np.array(values_to_predict, dtype=np.float32)\n",
    "    predicts = model.predict(array_to_predict.reshape(-1, 1))\n",
    "    return pd.DataFrame({x: values_to_predict, f\"Previsões de {y}\": predicts[:, 0]})"
   ]
  },
  {
   "cell_type": "code",
   "execution_count": null,
   "metadata": {},
   "outputs": [],
   "source": [
    "path = \"dse-weight-height-data.csv\"\n",
    "df = pd.read_csv(path)\n",
    "df.head()"
   ]
  },
  {
   "cell_type": "code",
   "execution_count": null,
   "metadata": {},
   "outputs": [],
   "source": [
    "df = df.drop(\"Gender\", axis=1)\n",
    "df = df.rename({\"Height\": \"Altura\", \"Weight\": \"Peso\"}, axis=1)\n",
    "df[\"Altura\"] = df[\"Altura\"].apply(lambda x: x * 0.0254)\n",
    "df[\"Peso\"] = df[\"Peso\"].apply(lambda x: x * 0.453592)\n",
    "df.head()"
   ]
  },
  {
   "cell_type": "code",
   "execution_count": null,
   "metadata": {},
   "outputs": [],
   "source": [
    "x = \"Altura\"\n",
    "y = \"Peso\"\n",
    "\n",
    "plt.rcParams[\"figure.figsize\"] = (20, 15)\n",
    "fig = plt.figure()\n",
    "fig.subplots_adjust(hspace=0.5, wspace=0.5)\n",
    "ax = fig.add_subplot(2, 2, 1)\n",
    "sns.histplot(df[x])\n",
    "ax = fig.add_subplot(2, 2, 2)\n",
    "sns.histplot(df[y])\n",
    "plt.show()"
   ]
  },
  {
   "cell_type": "code",
   "execution_count": null,
   "metadata": {},
   "outputs": [],
   "source": [
    "model = linear_regression(df, x, y)"
   ]
  },
  {
   "cell_type": "code",
   "execution_count": null,
   "metadata": {},
   "outputs": [],
   "source": [
    "values_to_predict = [1.50, 1.55, 1.80, 2, 2.10]\n",
    "\n",
    "df_predicts = predict_by_list(model, values_to_predict, x, y)\n",
    "df_predicts"
   ]
  }
 ],
 "metadata": {
  "kernelspec": {
   "display_name": "Python 3.10.6 64-bit",
   "language": "python",
   "name": "python3"
  },
  "language_info": {
   "codemirror_mode": {
    "name": "ipython",
    "version": 3
   },
   "file_extension": ".py",
   "mimetype": "text/x-python",
   "name": "python",
   "nbconvert_exporter": "python",
   "pygments_lexer": "ipython3",
   "version": "3.10.6"
  },
  "vscode": {
   "interpreter": {
    "hash": "916dbcbb3f70747c44a77c7bcd40155683ae19c65e1c03b4aa3499c5328201f1"
   }
  }
 },
 "nbformat": 4,
 "nbformat_minor": 2
}
